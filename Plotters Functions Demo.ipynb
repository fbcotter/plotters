{
 "cells": [
  {
   "cell_type": "markdown",
   "metadata": {},
   "source": [
    "# Exploration of some plotting utils"
   ]
  },
  {
   "cell_type": "code",
   "execution_count": null,
   "metadata": {},
   "outputs": [],
   "source": [
    "%matplotlib notebook\n",
    "import numpy as np\n",
    "import matplotlib.pyplot as plt\n",
    "import plotters\n",
    "from PIL import Image, ImageFilter\n",
    "\n",
    "im_pil = Image.open('docs/trinity.jpg')\n",
    "im = np.array(im_pil)"
   ]
  },
  {
   "cell_type": "markdown",
   "metadata": {},
   "source": [
    "# Scaling and displaying float images\n",
    "Matplotlib's `imshow` works well for colour images which are 8-bit unsigned integers (i.e. in the range 0 to 255)."
   ]
  },
  {
   "cell_type": "code",
   "execution_count": null,
   "metadata": {},
   "outputs": [],
   "source": [
    "fig, ax = plt.subplots(1, figsize=(10,5), num=1)\n",
    "ax.imshow(im)\n",
    "plt.show()"
   ]
  },
  {
   "cell_type": "markdown",
   "metadata": {},
   "source": [
    "It can also handle float arrays if they are monochrome, regardless of what scale the values have"
   ]
  },
  {
   "cell_type": "code",
   "execution_count": null,
   "metadata": {},
   "outputs": [],
   "source": [
    "bw = im[:,:,1].astype('float')\n",
    "bw2 = bw*0.1 - 50\n",
    "\n",
    "fig, ax = plt.subplots(1, 2, figsize=(10,5), num=2)\n",
    "ax[0].imshow(bw, cmap='gray')\n",
    "ax[1].imshow(bw2, cmap='gray')\n",
    "plt.show()"
   ]
  },
  {
   "cell_type": "markdown",
   "metadata": {},
   "source": [
    "However floating 3 channel images have to be in the range 0 to 1. If not, you'll get a weird looking image"
   ]
  },
  {
   "cell_type": "code",
   "execution_count": null,
   "metadata": {},
   "outputs": [],
   "source": [
    "f_im = im.astype('float')\n",
    "f_im2 = f_im / 255.0\n",
    "\n",
    "fig, ax = plt.subplots(1, 2, figsize=(10,5), num=3)\n",
    "ax[0].imshow(f_im, cmap='gray')\n",
    "ax[1].imshow(f_im2, cmap='gray')\n",
    "plt.show()"
   ]
  },
  {
   "cell_type": "markdown",
   "metadata": {},
   "source": [
    "This leads us to the first function in the plotters module - `imshowNormalize`. This will take a colour input of any scale and scale it to be in the range 0 to 1"
   ]
  },
  {
   "cell_type": "code",
   "execution_count": null,
   "metadata": {},
   "outputs": [],
   "source": [
    "f_im = im.astype('float')\n",
    "f_im = f_im * 0.2 + 32\n",
    "\n",
    "fig, ax = plt.subplots(1, figsize=(10,5), num=4)\n",
    "ax.imshow(plotters.imshowNormalize(f_im))\n",
    "plt.show()"
   ]
  },
  {
   "cell_type": "markdown",
   "metadata": {},
   "source": [
    "Instead of calling this and then calling `imshow`, you can also call `plotters.imshow`, which will call it automatically for you. It also removes the tick labels and scales the image to fit the figure."
   ]
  },
  {
   "cell_type": "code",
   "execution_count": null,
   "metadata": {},
   "outputs": [],
   "source": [
    "f_im = im.astype('float')\n",
    "f_im = f_im * 0.2 + 32\n",
    "\n",
    "fig, ax = plt.subplots(1, figsize=(6,4), num=5)\n",
    "plotters.imshow(f_im, ax)\n",
    "plt.show()"
   ]
  },
  {
   "cell_type": "markdown",
   "metadata": {},
   "source": [
    "# Side by Side Plotting\n",
    "Let us blur an image to imitate a filtering operation we want to examine more closely."
   ]
  },
  {
   "cell_type": "code",
   "execution_count": null,
   "metadata": {},
   "outputs": [],
   "source": [
    "im1 = np.array(im_pil.filter(ImageFilter.BLUR))\n",
    "\n",
    "fig, ax = plt.subplots(1, figsize=(6,4), num=6)\n",
    "plotters.imshow(im1, ax)\n",
    "plt.show()"
   ]
  },
  {
   "cell_type": "markdown",
   "metadata": {},
   "source": [
    "Plotting side by side isn't hard - we did it above with a call to `plt.subplots(1,2, ...)`. Again it does get annoying though having to worry about scaling if both images are floats; as well as removing the ticks and positioning them nicely. The `plotters.plot_sidebyside` function will handle this automatically."
   ]
  },
  {
   "cell_type": "code",
   "execution_count": null,
   "metadata": {},
   "outputs": [],
   "source": [
    "f_im1 = im1.astype('float') * 0.5 - 60\n",
    "f_im = im.astype('float') * 0.3 + 100\n",
    "\n",
    "fig, axes = plt.subplots(1, 2, figsize=(8,4), num=7)\n",
    "plotters.plot_sidebyside(f_im, f_im1, axes)\n",
    "plt.show()"
   ]
  },
  {
   "cell_type": "markdown",
   "metadata": {},
   "source": [
    "You can also zoom into a particular part of the image and display this side by side, again with all the extra convenience of handling floats nicely."
   ]
  },
  {
   "cell_type": "code",
   "execution_count": null,
   "metadata": {},
   "outputs": [],
   "source": [
    "# Let us zoom in on the fountain. This is roughly at pixel location (325, 1080)\n",
    "centre = (325, 1080)\n",
    "fig, axes = plt.subplots(1, 2, figsize=(8,4), num=8)\n",
    "plotters.zoom_sidebyside(f_im, f_im1, centre=centre, size=200, axes=axes)"
   ]
  },
  {
   "cell_type": "markdown",
   "metadata": {},
   "source": [
    "You can also feed it centre positions in the range 0 to 1. The zoom_sidebyside function determines how to interpret the centre positions by whether they are ints (assumes pixel coords) or floats (assumes relative position)"
   ]
  },
  {
   "cell_type": "code",
   "execution_count": null,
   "metadata": {},
   "outputs": [],
   "source": [
    "centre = (0.339, 0.844)\n",
    "fig, axes = plt.subplots(1, 2, figsize=(8,4), num=9)\n",
    "plotters.zoom_sidebyside(f_im, f_im1, centre=centre, size=200, axes=axes)"
   ]
  },
  {
   "cell_type": "markdown",
   "metadata": {},
   "source": [
    "# Displaying grids of data"
   ]
  },
  {
   "cell_type": "markdown",
   "metadata": {},
   "source": [
    "## A 3d 'tensor' of images\n",
    "This often happens in CNNs. You may want to examine an activation layer which may be $100 \\times 100 \\times 16$ say. We can view them as a grid of black and white images with the `plot_activations` function"
   ]
  },
  {
   "cell_type": "code",
   "execution_count": null,
   "metadata": {},
   "outputs": [],
   "source": [
    "# Simulate an array of activations - this next line grabs 16 patches from the \n",
    "# above image by randomly sampling a row position, col position and colour channel.\n",
    "rows = np.random.randint(300, im1.shape[0]-50, size=(16,)) # We sample from 300 to avoid all the sky in the image\n",
    "cols = np.random.randint(50, im1.shape[1]-50, size=(16,))\n",
    "channels = np.random.randint(0, 3, size=(16,))\n",
    "acts = [im[r-50:r+50,c-50:c+50,ch] for r,c,ch in zip(rows, cols, channels)]\n",
    "\n",
    "# Convert the list to a numpy array by stacking the elements\n",
    "acts = np.stack(acts, axis=-1)\n",
    "acts.shape"
   ]
  },
  {
   "cell_type": "code",
   "execution_count": null,
   "metadata": {},
   "outputs": [],
   "source": [
    "fig, ax = plt.subplots(1, figsize=(4,4), num=10)\n",
    "plotters.plot_activations(acts, cols=4, draw=True, ax=ax);"
   ]
  },
  {
   "cell_type": "markdown",
   "metadata": {},
   "source": [
    "By default, all of the images will be scaled individually, but you may not want to do this. You can change this behaviour by scaling the image as a whole."
   ]
  },
  {
   "cell_type": "code",
   "execution_count": null,
   "metadata": {},
   "outputs": [],
   "source": [
    "acts = acts * np.linspace(0.2, 0.8, 16)\n",
    "\n",
    "fig, ax = plt.subplots(1, figsize=(4,4), num=11)\n",
    "plotters.plot_activations(acts, cols=4, draw=True, scale_individual=False, ax=ax);"
   ]
  },
  {
   "cell_type": "markdown",
   "metadata": {},
   "source": [
    "## A 4d 'tensor' (a batch of colour images)\n",
    "It often happens that I will want to look at a batch of RGB images (e.g reconstructions from activations in a CNN). I.e. we will have an array of shape [N, H, W, 3], and I'll want to view all of these as a grid. To do this, we can use `plotters.plot_batch_colour`."
   ]
  },
  {
   "cell_type": "code",
   "execution_count": null,
   "metadata": {},
   "outputs": [],
   "source": [
    "# Simulate an array of colour patches - this next line grabs 16 patches from the \n",
    "# above image by randomly sampling a row position and col position\n",
    "rows = np.random.randint(300, im1.shape[0]-50, size=(16,)) # We sample from 300 to avoid all the sky in the image\n",
    "cols = np.random.randint(50, im1.shape[1]-50, size=(16,))\n",
    "acts = [im[r-50:r+50,c-50:c+50,:] for r,c in zip(rows, cols)]\n",
    "\n",
    "# Convert the list to a numpy array by stacking the elements\n",
    "batch = np.stack(acts, axis=0)\n",
    "batch.shape"
   ]
  },
  {
   "cell_type": "code",
   "execution_count": null,
   "metadata": {},
   "outputs": [],
   "source": [
    "fig, ax = plt.subplots(1, figsize=(4,4), num=12)\n",
    "plotters.plot_batch_colour(batch, cols=4, draw=True, ax=ax);"
   ]
  },
  {
   "cell_type": "markdown",
   "metadata": {},
   "source": [
    "Again, we can scale the images individually (as above) or as a whole (below)"
   ]
  },
  {
   "cell_type": "code",
   "execution_count": null,
   "metadata": {},
   "outputs": [],
   "source": [
    "batch2 = batch * np.reshape(np.linspace(0.8, 0.2, 16), [16, 1, 1, 1])\n",
    "\n",
    "fig, ax = plt.subplots(1, figsize=(4,4), num=13)\n",
    "plotters.plot_batch_colour(batch2, cols=4, draw=True, scale_individual=False, ax=ax);"
   ]
  },
  {
   "cell_type": "markdown",
   "metadata": {},
   "source": [
    "## Zooming in on a 4d array of images\n",
    "Say we wanted to look at the centre point of all of these 16 images. We can do use `plotters.zoom_batch_colour`. To plot them, we can then use the above plotting methods."
   ]
  },
  {
   "cell_type": "code",
   "execution_count": null,
   "metadata": {},
   "outputs": [],
   "source": [
    "centre = (0.4, 0.5) # can also feed in an array of size (16,2) to specify centre locations for each image\n",
    "batch2 = plotters.zoom_batch_colour(batch, (0.4, 0.5), size=20)\n",
    "\n",
    "fig, ax = plt.subplots(1, figsize=(4,4), num=14)\n",
    "plotters.plot_batch_colour(batch2, cols=4, draw=True, scale_individual=False, ax=ax);"
   ]
  },
  {
   "cell_type": "markdown",
   "metadata": {},
   "source": [
    "## Creating a grid of axes to plot individually to\n",
    "An alternative to the above method of plotting multiple images (internally, this creates one large big image and plots it on a single axis) is to create mutliple axes and plot to them manually. Matplotlib provides the gridspec package to help you do this. I do this often so I've created the function `plot_axgrid` to give me axis handles. You can feed it all the standard figure keyword args like figsize and num too."
   ]
  },
  {
   "cell_type": "code",
   "execution_count": null,
   "metadata": {},
   "outputs": [],
   "source": [
    "fig, axes= plotters.plot_axgrid(4,4, figsize=(6,6), num=15)\n",
    "for i in range(4):\n",
    "    for j in range(4):\n",
    "        axes[i][j].imshow(batch[i*4+j])"
   ]
  }
 ],
 "metadata": {
  "kernelspec": {
   "display_name": "python",
   "language": "python",
   "name": "tf"
  },
  "language_info": {
   "codemirror_mode": {
    "name": "ipython",
    "version": 3
   },
   "file_extension": ".py",
   "mimetype": "text/x-python",
   "name": "python",
   "nbconvert_exporter": "python",
   "pygments_lexer": "ipython3"
  },
  "toc": {
   "colors": {
    "hover_highlight": "#DAA520",
    "running_highlight": "#FF0000",
    "selected_highlight": "#FFD700"
   },
   "moveMenuLeft": true,
   "nav_menu": {
    "height": "159px",
    "width": "252px"
   },
   "navigate_menu": true,
   "number_sections": true,
   "sideBar": true,
   "threshold": 4,
   "toc_cell": false,
   "toc_section_display": "block",
   "toc_window_display": true
  }
 },
 "nbformat": 4,
 "nbformat_minor": 2
}
